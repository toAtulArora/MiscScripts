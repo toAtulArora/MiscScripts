{
 "cells": [
  {
   "cell_type": "code",
   "execution_count": 1,
   "metadata": {},
   "outputs": [],
   "source": [
    "import os\n",
    "import subprocess"
   ]
  },
  {
   "cell_type": "code",
   "execution_count": 10,
   "metadata": {},
   "outputs": [],
   "source": [
    "input_folder = '/Users/atulsingharora/Downloads/test/'\n",
    "output_folder = '/Users/atulsingharora/Downloads/test_output/'\n"
   ]
  },
  {
   "cell_type": "code",
   "execution_count": 17,
   "metadata": {},
   "outputs": [],
   "source": [
    "for file_name in os.listdir(input_folder):\n",
    "        if file_name.endswith('.mov'):\n",
    "            input_file = os.path.join(input_folder, file_name)\n",
    "            output_file = os.path.join(output_folder, file_name.rsplit('.', 1)[0] + '.mp4')\n",
    "            print(f\"Converting {input_file} to {output_file}\")\n",
    "            convert_mov_to_mp4(input_file, output_file)"
   ]
  },
  {
   "cell_type": "code",
   "execution_count": 53,
   "metadata": {},
   "outputs": [],
   "source": [
    "\n",
    "def convert_mov_to_mp4(input_file, output_file):\n",
    "    # command = [\n",
    "    #     'ffmpeg',\n",
    "    #     '-i', input_file,\n",
    "    #     '-c:v', 'h264',\n",
    "    #     '-crf', '23',  # adjust quality (0-51, 0 being lossless)\n",
    "    #     '-preset', 'medium',  # adjust encoding speed vs. compression ratio\n",
    "    #     '-c:a', 'aac',\n",
    "    #     '-b:a', '128k',  # adjust audio bitrate as needed\n",
    "    #     output_file\n",
    "    # ]\n",
    "    command = ['ffmpeg', '-i', input_file, '-qscale', '0', output_file ] \n",
    "    # ffmpeg -i input_file -qscale 0 output_file\n",
    "\n",
    "    print(\"Hello\")\n",
    "    subprocess.run(command)\n",
    "\n",
    "def main():\n",
    "    # input_folder = 'input_folder'  # specify your input folder here\n",
    "    # output_folder = 'output_folder'  # specify your output folder here\n",
    "\n",
    "    if not os.path.exists(output_folder):\n",
    "        os.makedirs(output_folder)\n",
    "\n",
    "    for file_name in os.listdir(input_folder):\n",
    "        print(\"entering folder\"+file_name)\n",
    "        if file_name.endswith('.mov') or file_name.endswith('.MOV'):\n",
    "            print(\"found mov\")\n",
    "            input_file = os.path.join(input_folder, file_name)\n",
    "            output_file = os.path.join(output_folder, file_name.rsplit('.', 1)[0] + '.mp4')\n",
    "            print(f\"Converting {input_file} to {output_file}\")\n",
    "            convert_mov_to_mp4(input_file, output_file)\n",
    "            print(\"hello\" + input_file + output_file)\n",
    "\n"
   ]
  },
  {
   "cell_type": "code",
   "execution_count": 55,
   "metadata": {},
   "outputs": [
    {
     "name": "stdout",
     "output_type": "stream",
     "text": [
      "entering folderIMG_4027.MOV\n",
      "found mov\n",
      "Converting /Users/atulsingharora/Downloads/test/IMG_4027.MOV to /Users/atulsingharora/Downloads/test_output/IMG_4027.mp4\n",
      "Hello\n"
     ]
    },
    {
     "name": "stderr",
     "output_type": "stream",
     "text": [
      "ffmpeg version 4.3 Copyright (c) 2000-2020 the FFmpeg developers\n",
      "  built with clang version 10.0.0\n",
      "  configuration: --prefix=/Users/atulsingharora/opt/anaconda3/envs/quantInfo --cc=x86_64-apple-darwin13.4.0-clang --disable-doc --disable-openssl --enable-avresample --enable-gnutls --enable-hardcoded-tables --enable-libfreetype --enable-libopenh264 --enable-pic --enable-pthreads --enable-shared --disable-static --enable-version3 --enable-zlib --enable-libmp3lame\n",
      "  libavutil      56. 51.100 / 56. 51.100\n",
      "  libavcodec     58. 91.100 / 58. 91.100\n",
      "  libavformat    58. 45.100 / 58. 45.100\n",
      "  libavdevice    58. 10.100 / 58. 10.100\n",
      "  libavfilter     7. 85.100 /  7. 85.100\n",
      "  libavresample   4.  0.  0 /  4.  0.  0\n",
      "  libswscale      5.  7.100 /  5.  7.100\n",
      "  libswresample   3.  7.100 /  3.  7.100\n",
      "Input #0, mov,mp4,m4a,3gp,3g2,mj2, from '/Users/atulsingharora/Downloads/test/IMG_4027.MOV':\n",
      "  Metadata:\n",
      "    major_brand     : qt  \n",
      "    minor_version   : 0\n",
      "    compatible_brands: qt  \n",
      "    creation_time   : 2024-02-18T09:24:44.000000Z\n",
      "    com.apple.quicktime.location.accuracy.horizontal: 35.000000\n",
      "    com.apple.quicktime.location.ISO6709: +28.6436+077.2453+218.964/\n",
      "    com.apple.quicktime.make: Apple\n",
      "    com.apple.quicktime.model: iPhone 13 Pro\n",
      "    com.apple.quicktime.software: 17.2.1\n",
      "    com.apple.quicktime.creationdate: 2024-02-18T14:54:43+0530\n",
      "  Duration: 00:01:10.19, start: 0.000000, bitrate: 45444 kb/s\n",
      "    Stream #0:0(und): Video: h264 (High) (avc1 / 0x31637661), yuv420p(tv, bt709), 3840x2160, 45126 kb/s, 30 fps, 30 tbr, 600 tbn, 1200 tbc (default)\n",
      "    Metadata:\n",
      "      creation_time   : 2024-02-18T09:24:44.000000Z\n",
      "      handler_name    : Core Media Video\n",
      "      encoder         : H.264\n",
      "    Stream #0:1(und): Audio: aac (LC) (mp4a / 0x6134706D), 44100 Hz, stereo, fltp, 191 kb/s (default)\n",
      "    Metadata:\n",
      "      creation_time   : 2024-02-18T09:24:44.000000Z\n",
      "      handler_name    : Core Media Audio\n",
      "    Stream #0:2(und): Data: none (mebx / 0x7862656D), 0 kb/s (default)\n",
      "    Metadata:\n",
      "      creation_time   : 2024-02-18T09:24:44.000000Z\n",
      "      handler_name    : Core Media Metadata\n",
      "    Stream #0:3(und): Data: none (mebx / 0x7862656D), 48 kb/s (default)\n",
      "    Metadata:\n",
      "      creation_time   : 2024-02-18T09:24:44.000000Z\n",
      "      handler_name    : Core Media Metadata\n",
      "    Stream #0:4(und): Data: none (mebx / 0x7862656D), 65 kb/s (default)\n",
      "    Metadata:\n",
      "      creation_time   : 2024-02-18T09:24:44.000000Z\n",
      "      handler_name    : Core Media Metadata\n",
      "Please use -q:a or -q:v, -qscale is ambiguous\n",
      "Stream mapping:\n",
      "  Stream #0:0 -> #0:0 (h264 (native) -> mpeg4 (native))\n",
      "  Stream #0:1 -> #0:1 (aac (native) -> aac (native))\n",
      "Press [q] to stop, [?] for help\n",
      "Output #0, mp4, to '/Users/atulsingharora/Downloads/test_output/IMG_4027.mp4':\n",
      "  Metadata:\n",
      "    major_brand     : qt  \n",
      "    minor_version   : 0\n",
      "    compatible_brands: qt  \n",
      "    com.apple.quicktime.creationdate: 2024-02-18T14:54:43+0530\n",
      "    com.apple.quicktime.location.accuracy.horizontal: 35.000000\n",
      "    com.apple.quicktime.location.ISO6709: +28.6436+077.2453+218.964/\n",
      "    com.apple.quicktime.make: Apple\n",
      "    com.apple.quicktime.model: iPhone 13 Pro\n",
      "    com.apple.quicktime.software: 17.2.1\n",
      "    encoder         : Lavf58.45.100\n",
      "    Stream #0:0(und): Video: mpeg4 (mp4v / 0x7634706D), yuv420p, 3840x2160, q=2-31, 200 kb/s, 30 fps, 15360 tbn, 30 tbc (default)\n",
      "    Metadata:\n",
      "      creation_time   : 2024-02-18T09:24:44.000000Z\n",
      "      handler_name    : Core Media Video\n",
      "      encoder         : Lavc58.91.100 mpeg4\n",
      "    Side data:\n",
      "      cpb: bitrate max/min/avg: 0/0/200000 buffer size: 0 vbv_delay: N/A\n",
      "    Stream #0:1(und): Audio: aac (LC) (mp4a / 0x6134706D), 44100 Hz, stereo, fltp, 128 kb/s (default)\n",
      "    Metadata:\n",
      "      creation_time   : 2024-02-18T09:24:44.000000Z\n",
      "      handler_name    : Core Media Audio\n",
      "      encoder         : Lavc58.91.100 aac\n",
      "frame= 2106 fps= 69 q=0.0 Lsize= 1502097kB time=00:01:10.19 bitrate=175302.6kbits/s speed=2.31x    \n",
      "video:1500936kB audio:1101kB subtitle:0kB other streams:0kB global headers:0kB muxing overhead: 0.003998%\n",
      "[aac @ 0x7fc3ec81a800] Qavg: 176.261\n",
      "ffmpeg version 4.3 Copyright (c) 2000-2020 the FFmpeg developers\n",
      "  built with clang version 10.0.0\n",
      "  configuration: --prefix=/Users/atulsingharora/opt/anaconda3/envs/quantInfo --cc=x86_64-apple-darwin13.4.0-clang --disable-doc --disable-openssl --enable-avresample --enable-gnutls --enable-hardcoded-tables --enable-libfreetype --enable-libopenh264 --enable-pic --enable-pthreads --enable-shared --disable-static --enable-version3 --enable-zlib --enable-libmp3lame\n",
      "  libavutil      56. 51.100 / 56. 51.100\n",
      "  libavcodec     58. 91.100 / 58. 91.100\n",
      "  libavformat    58. 45.100 / 58. 45.100\n",
      "  libavdevice    58. 10.100 / 58. 10.100\n",
      "  libavfilter     7. 85.100 /  7. 85.100\n",
      "  libavresample   4.  0.  0 /  4.  0.  0\n",
      "  libswscale      5.  7.100 /  5.  7.100\n",
      "  libswresample   3.  7.100 /  3.  7.100\n",
      "Input #0, mov,mp4,m4a,3gp,3g2,mj2, from '/Users/atulsingharora/Downloads/test/IMG_4027 copy.MOV':\n",
      "  Metadata:\n",
      "    major_brand     : qt  \n",
      "    minor_version   : 0\n",
      "    compatible_brands: qt  \n",
      "    creation_time   : 2024-02-18T09:24:44.000000Z\n",
      "    com.apple.quicktime.location.accuracy.horizontal: 35.000000\n",
      "    com.apple.quicktime.location.ISO6709: +28.6436+077.2453+218.964/\n",
      "    com.apple.quicktime.make: Apple\n",
      "    com.apple.quicktime.model: iPhone 13 Pro\n",
      "    com.apple.quicktime.software: 17.2.1\n",
      "    com.apple.quicktime.creationdate: 2024-02-18T14:54:43+0530\n",
      "  Duration: 00:01:10.19, start: 0.000000, bitrate: 45444 kb/s\n",
      "    Stream #0:0(und): Video: h264 (High) (avc1 / 0x31637661), yuv420p(tv, bt709), 3840x2160, 45126 kb/s, 30 fps, 30 tbr, 600 tbn, 1200 tbc (default)\n",
      "    Metadata:\n",
      "      creation_time   : 2024-02-18T09:24:44.000000Z\n",
      "      handler_name    : Core Media Video\n",
      "      encoder         : H.264\n",
      "    Stream #0:1(und): Audio: aac (LC) (mp4a / 0x6134706D), 44100 Hz, stereo, fltp, 191 kb/s (default)\n",
      "    Metadata:\n",
      "      creation_time   : 2024-02-18T09:24:44.000000Z\n",
      "      handler_name    : Core Media Audio\n",
      "    Stream #0:2(und): Data: none (mebx / 0x7862656D), 0 kb/s (default)\n",
      "    Metadata:\n",
      "      creation_time   : 2024-02-18T09:24:44.000000Z\n",
      "      handler_name    : Core Media Metadata\n",
      "    Stream #0:3(und): Data: none (mebx / 0x7862656D), 48 kb/s (default)\n",
      "    Metadata:\n",
      "      creation_time   : 2024-02-18T09:24:44.000000Z\n",
      "      handler_name    : Core Media Metadata\n",
      "    Stream #0:4(und): Data: none (mebx / 0x7862656D), 65 kb/s (default)\n",
      "    Metadata:\n",
      "      creation_time   : 2024-02-18T09:24:44.000000Z\n",
      "      handler_name    : Core Media Metadata\n",
      "Please use -q:a or -q:v, -qscale is ambiguous\n",
      "Stream mapping:\n",
      "  Stream #0:0 -> #0:0 (h264 (native) -> mpeg4 (native))\n",
      "  Stream #0:1 -> #0:1 (aac (native) -> aac (native))\n",
      "Press [q] to stop, [?] for help\n"
     ]
    },
    {
     "name": "stdout",
     "output_type": "stream",
     "text": [
      "hello/Users/atulsingharora/Downloads/test/IMG_4027.MOV/Users/atulsingharora/Downloads/test_output/IMG_4027.mp4\n",
      "entering folderIMG_4027 copy.MOV\n",
      "found mov\n",
      "Converting /Users/atulsingharora/Downloads/test/IMG_4027 copy.MOV to /Users/atulsingharora/Downloads/test_output/IMG_4027 copy.mp4\n",
      "Hello\n"
     ]
    },
    {
     "name": "stderr",
     "output_type": "stream",
     "text": [
      "Output #0, mp4, to '/Users/atulsingharora/Downloads/test_output/IMG_4027 copy.mp4':\n",
      "  Metadata:\n",
      "    major_brand     : qt  \n",
      "    minor_version   : 0\n",
      "    compatible_brands: qt  \n",
      "    com.apple.quicktime.creationdate: 2024-02-18T14:54:43+0530\n",
      "    com.apple.quicktime.location.accuracy.horizontal: 35.000000\n",
      "    com.apple.quicktime.location.ISO6709: +28.6436+077.2453+218.964/\n",
      "    com.apple.quicktime.make: Apple\n",
      "    com.apple.quicktime.model: iPhone 13 Pro\n",
      "    com.apple.quicktime.software: 17.2.1\n",
      "    encoder         : Lavf58.45.100\n",
      "    Stream #0:0(und): Video: mpeg4 (mp4v / 0x7634706D), yuv420p, 3840x2160, q=2-31, 200 kb/s, 30 fps, 15360 tbn, 30 tbc (default)\n",
      "    Metadata:\n",
      "      creation_time   : 2024-02-18T09:24:44.000000Z\n",
      "      handler_name    : Core Media Video\n",
      "      encoder         : Lavc58.91.100 mpeg4\n",
      "    Side data:\n",
      "      cpb: bitrate max/min/avg: 0/0/200000 buffer size: 0 vbv_delay: N/A\n",
      "    Stream #0:1(und): Audio: aac (LC) (mp4a / 0x6134706D), 44100 Hz, stereo, fltp, 128 kb/s (default)\n",
      "    Metadata:\n",
      "      creation_time   : 2024-02-18T09:24:44.000000Z\n",
      "      handler_name    : Core Media Audio\n",
      "      encoder         : Lavc58.91.100 aac\n",
      "frame= 2073 fps= 68 q=0.0 size= 1479680kB time=00:01:10.12 bitrate=172858.0kbits/s speed=2.31x    \r"
     ]
    },
    {
     "name": "stdout",
     "output_type": "stream",
     "text": [
      "hello/Users/atulsingharora/Downloads/test/IMG_4027 copy.MOV/Users/atulsingharora/Downloads/test_output/IMG_4027 copy.mp4\n"
     ]
    },
    {
     "name": "stderr",
     "output_type": "stream",
     "text": [
      "frame= 2106 fps= 68 q=0.0 Lsize= 1502097kB time=00:01:10.19 bitrate=175302.6kbits/s speed=2.28x    \n",
      "video:1500936kB audio:1101kB subtitle:0kB other streams:0kB global headers:0kB muxing overhead: 0.003998%\n",
      "[aac @ 0x7ff731808e00] Qavg: 176.261\n"
     ]
    }
   ],
   "source": [
    "main()"
   ]
  },
  {
   "cell_type": "code",
   "execution_count": 30,
   "metadata": {},
   "outputs": [
    {
     "name": "stdout",
     "output_type": "stream",
     "text": [
      "hello\n"
     ]
    }
   ],
   "source": [
    "hello()"
   ]
  },
  {
   "cell_type": "code",
   "execution_count": null,
   "metadata": {},
   "outputs": [],
   "source": []
  }
 ],
 "metadata": {
  "kernelspec": {
   "display_name": "quantInfo",
   "language": "python",
   "name": "python3"
  },
  "language_info": {
   "codemirror_mode": {
    "name": "ipython",
    "version": 3
   },
   "file_extension": ".py",
   "mimetype": "text/x-python",
   "name": "python",
   "nbconvert_exporter": "python",
   "pygments_lexer": "ipython3",
   "version": "3.9.7"
  }
 },
 "nbformat": 4,
 "nbformat_minor": 2
}
